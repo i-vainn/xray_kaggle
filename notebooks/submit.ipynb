{
 "cells": [
  {
   "cell_type": "code",
   "execution_count": 9,
   "metadata": {},
   "outputs": [],
   "source": [
    "from models.resnet import MyResNet\n",
    "from data_utils import CustomDataset, get_transforms\n",
    "from tqdm.notebook import tqdm\n",
    "from torchvision.models import efficientnet_b1\n",
    "from torchvision.models import efficientnet_b0\n",
    "import torch\n",
    "import pandas as pd\n",
    "import kaggle\n",
    "\n",
    "device = 'cuda:1'"
   ]
  },
  {
   "cell_type": "code",
   "execution_count": 10,
   "metadata": {},
   "outputs": [
    {
     "data": {
      "text/plain": [
       "'checkpoints/worthy-yogurt-79-19-0.8071_model.pt'"
      ]
     },
     "execution_count": 10,
     "metadata": {},
     "output_type": "execute_result"
    }
   ],
   "source": [
    "'checkpoints/worthy-yogurt-79-20-0.8076_model.pt.pt'"
   ]
  },
  {
   "cell_type": "code",
   "execution_count": 11,
   "metadata": {},
   "outputs": [],
   "source": [
    "checkpoint = 'worthy-yogurt-79-19-0.8071'"
   ]
  },
  {
   "cell_type": "code",
   "execution_count": 12,
   "metadata": {},
   "outputs": [
    {
     "data": {
      "application/vnd.jupyter.widget-view+json": {
       "model_id": "b3233541396143b2b17f065b02477b08",
       "version_major": 2,
       "version_minor": 0
      },
      "text/plain": [
       "  0%|          | 0/151 [00:00<?, ?it/s]"
      ]
     },
     "metadata": {},
     "output_type": "display_data"
    }
   ],
   "source": [
    "def inference(model, dataloader, device='cpu'):\n",
    "    preds = []\n",
    "    model.eval()\n",
    "    for x_batch, _ in tqdm(dataloader):\n",
    "        data = x_batch.to(device)\n",
    "        with torch.inference_mode():\n",
    "            output = model(data)\n",
    "            preds.append(output.detach().cpu())\n",
    "            \n",
    "    return torch.cat(preds)\n",
    "\n",
    "def predict(model_cls, checkpoint, batchsize=128, base_sumbission='data/sample_submission.csv'):\n",
    "    model = efficientnet_b0(num_classes=5)\n",
    "    model.load_state_dict(torch.load(checkpoint))\n",
    "    model.to(device)\n",
    "    dataloader = torch.utils.data.DataLoader(CustomDataset(base_sumbission, get_transforms('val')), batch_size=batchsize, num_workers=4)\n",
    "    preds = inference(model, dataloader, device)\n",
    "    return preds\n",
    "\n",
    "preds = predict(MyResNet, f'checkpoints/{checkpoint}_model.pt')"
   ]
  },
  {
   "cell_type": "code",
   "execution_count": 13,
   "metadata": {},
   "outputs": [],
   "source": [
    "test = pd.read_csv('data/sample_submission.csv', )\n",
    "test.iloc[:, 1:] = preds\n",
    "test.to_csv(f'data/submissions/{checkpoint}.csv', index=False)"
   ]
  },
  {
   "cell_type": "code",
   "execution_count": 15,
   "metadata": {},
   "outputs": [
    {
     "name": "stderr",
     "output_type": "stream",
     "text": [
      "100%|██████████| 2.10M/2.10M [00:01<00:00, 1.11MB/s]\n"
     ]
    },
    {
     "data": {
      "text/plain": [
       "Successfully submitted to Chest x-ray image classification"
      ]
     },
     "execution_count": 15,
     "metadata": {},
     "output_type": "execute_result"
    }
   ],
   "source": [
    "kaggle.api.competition_submit(f'data/submissions/{checkpoint}.csv', 'Effnetb0 320x320 augmented cyclelr', 'chest-x-ray-image-classification')"
   ]
  },
  {
   "cell_type": "markdown",
   "metadata": {},
   "source": [
    "# Averaging"
   ]
  },
  {
   "cell_type": "code",
   "execution_count": 16,
   "metadata": {},
   "outputs": [],
   "source": [
    "def averaging(base_model, paths):\n",
    "    target_state_dict = base_model(num_classes=5).state_dict()\n",
    "    for key in target_state_dict:\n",
    "        target_state_dict[key].data.fill_(0.)\n",
    "        \n",
    "    for path in tqdm(paths):\n",
    "        model = base_model(num_classes=5)\n",
    "        model.load_state_dict(torch.load(path))\n",
    "        state_dict = model.state_dict()\n",
    "        for key in target_state_dict:\n",
    "            if target_state_dict[key].data.dtype != torch.float32:\n",
    "                continue\n",
    "            target_state_dict[key].data += state_dict[key].data.clone() / len(paths)\n",
    "            \n",
    "    return target_state_dict"
   ]
  },
  {
   "cell_type": "code",
   "execution_count": 17,
   "metadata": {},
   "outputs": [
    {
     "data": {
      "application/vnd.jupyter.widget-view+json": {
       "model_id": "6902b0c69118450fa6864420e574b81b",
       "version_major": 2,
       "version_minor": 0
      },
      "text/plain": [
       "  0%|          | 0/6 [00:00<?, ?it/s]"
      ]
     },
     "metadata": {},
     "output_type": "display_data"
    }
   ],
   "source": [
    "paths = [\n",
    "    'checkpoints/worthy-yogurt-79-15-0.8039_model.pt',\n",
    "    'checkpoints/worthy-yogurt-79-16-0.8044_model.pt',\n",
    "    'checkpoints/worthy-yogurt-79-17-0.8060_model.pt',\n",
    "    'checkpoints/worthy-yogurt-79-18-0.8066_model.pt',\n",
    "    'checkpoints/worthy-yogurt-79-19-0.8071_model.pt',\n",
    "    'checkpoints/worthy-yogurt-79-20-0.8076_model.pt',\n",
    "]\n",
    "\n",
    "cool_model = averaging(efficientnet_b0, paths)"
   ]
  },
  {
   "cell_type": "code",
   "execution_count": 36,
   "metadata": {},
   "outputs": [
    {
     "data": {
      "application/vnd.jupyter.widget-view+json": {
       "model_id": "2c1473c18779465cb8459582d5fbd4c8",
       "version_major": 2,
       "version_minor": 0
      },
      "text/plain": [
       "  0%|          | 0/76 [00:00<?, ?it/s]"
      ]
     },
     "metadata": {},
     "output_type": "display_data"
    },
    {
     "data": {
      "application/vnd.jupyter.widget-view+json": {
       "model_id": "33af51b3d0654c708fec40f6284ef94b",
       "version_major": 2,
       "version_minor": 0
      },
      "text/plain": [
       "  0%|          | 0/76 [00:00<?, ?it/s]"
      ]
     },
     "metadata": {},
     "output_type": "display_data"
    },
    {
     "data": {
      "application/vnd.jupyter.widget-view+json": {
       "model_id": "cca22d63cd4949cbbd7ac02bcc5e9f17",
       "version_major": 2,
       "version_minor": 0
      },
      "text/plain": [
       "  0%|          | 0/76 [00:00<?, ?it/s]"
      ]
     },
     "metadata": {},
     "output_type": "display_data"
    },
    {
     "data": {
      "application/vnd.jupyter.widget-view+json": {
       "model_id": "caa85e81015e49aba9a9c9c23abca4f8",
       "version_major": 2,
       "version_minor": 0
      },
      "text/plain": [
       "  0%|          | 0/76 [00:00<?, ?it/s]"
      ]
     },
     "metadata": {},
     "output_type": "display_data"
    },
    {
     "data": {
      "application/vnd.jupyter.widget-view+json": {
       "model_id": "4024750b90cb44b5992e13e6081c44ae",
       "version_major": 2,
       "version_minor": 0
      },
      "text/plain": [
       "  0%|          | 0/76 [00:00<?, ?it/s]"
      ]
     },
     "metadata": {},
     "output_type": "display_data"
    },
    {
     "data": {
      "application/vnd.jupyter.widget-view+json": {
       "model_id": "9904c568ef664f68b3f06d4aec27a1a7",
       "version_major": 2,
       "version_minor": 0
      },
      "text/plain": [
       "  0%|          | 0/76 [00:00<?, ?it/s]"
      ]
     },
     "metadata": {},
     "output_type": "display_data"
    },
    {
     "data": {
      "application/vnd.jupyter.widget-view+json": {
       "model_id": "1af50bcc08ae4ed8938d3112f8a33c2a",
       "version_major": 2,
       "version_minor": 0
      },
      "text/plain": [
       "  0%|          | 0/76 [00:00<?, ?it/s]"
      ]
     },
     "metadata": {},
     "output_type": "display_data"
    },
    {
     "data": {
      "application/vnd.jupyter.widget-view+json": {
       "model_id": "fc47ed918f2a464e99a353c290533d95",
       "version_major": 2,
       "version_minor": 0
      },
      "text/plain": [
       "  0%|          | 0/76 [00:00<?, ?it/s]"
      ]
     },
     "metadata": {},
     "output_type": "display_data"
    },
    {
     "data": {
      "application/vnd.jupyter.widget-view+json": {
       "model_id": "b7af6386276d4e4e8426e789998874c7",
       "version_major": 2,
       "version_minor": 0
      },
      "text/plain": [
       "  0%|          | 0/76 [00:00<?, ?it/s]"
      ]
     },
     "metadata": {},
     "output_type": "display_data"
    },
    {
     "data": {
      "application/vnd.jupyter.widget-view+json": {
       "model_id": "806dc7d03ae64a0a9b9a5c02b3fee119",
       "version_major": 2,
       "version_minor": 0
      },
      "text/plain": [
       "  0%|          | 0/76 [00:00<?, ?it/s]"
      ]
     },
     "metadata": {},
     "output_type": "display_data"
    },
    {
     "data": {
      "application/vnd.jupyter.widget-view+json": {
       "model_id": "8e50d3f1e8954aa5b4ffc6445bc8ac19",
       "version_major": 2,
       "version_minor": 0
      },
      "text/plain": [
       "  0%|          | 0/76 [00:00<?, ?it/s]"
      ]
     },
     "metadata": {},
     "output_type": "display_data"
    },
    {
     "data": {
      "application/vnd.jupyter.widget-view+json": {
       "model_id": "a9f2f2bb9fde407b9d7add095fd57a60",
       "version_major": 2,
       "version_minor": 0
      },
      "text/plain": [
       "  0%|          | 0/76 [00:00<?, ?it/s]"
      ]
     },
     "metadata": {},
     "output_type": "display_data"
    },
    {
     "data": {
      "application/vnd.jupyter.widget-view+json": {
       "model_id": "fce5544a23d24d3c9d7b098d27b99fe0",
       "version_major": 2,
       "version_minor": 0
      },
      "text/plain": [
       "  0%|          | 0/76 [00:00<?, ?it/s]"
      ]
     },
     "metadata": {},
     "output_type": "display_data"
    },
    {
     "data": {
      "application/vnd.jupyter.widget-view+json": {
       "model_id": "334b6b873ea247bdb0af1651ba7f22fa",
       "version_major": 2,
       "version_minor": 0
      },
      "text/plain": [
       "  0%|          | 0/76 [00:00<?, ?it/s]"
      ]
     },
     "metadata": {},
     "output_type": "display_data"
    },
    {
     "data": {
      "application/vnd.jupyter.widget-view+json": {
       "model_id": "debc356f3b62405894d8f81e2ae1f4e8",
       "version_major": 2,
       "version_minor": 0
      },
      "text/plain": [
       "  0%|          | 0/76 [00:00<?, ?it/s]"
      ]
     },
     "metadata": {},
     "output_type": "display_data"
    },
    {
     "data": {
      "application/vnd.jupyter.widget-view+json": {
       "model_id": "3052592e46dd4087984ed2d9749fc038",
       "version_major": 2,
       "version_minor": 0
      },
      "text/plain": [
       "  0%|          | 0/76 [00:00<?, ?it/s]"
      ]
     },
     "metadata": {},
     "output_type": "display_data"
    },
    {
     "data": {
      "application/vnd.jupyter.widget-view+json": {
       "model_id": "597062e2d2ce4b69ab14034cf056d2e5",
       "version_major": 2,
       "version_minor": 0
      },
      "text/plain": [
       "  0%|          | 0/76 [00:00<?, ?it/s]"
      ]
     },
     "metadata": {},
     "output_type": "display_data"
    },
    {
     "data": {
      "application/vnd.jupyter.widget-view+json": {
       "model_id": "5a4636faf8764584a7193e816d2b8e06",
       "version_major": 2,
       "version_minor": 0
      },
      "text/plain": [
       "  0%|          | 0/76 [00:00<?, ?it/s]"
      ]
     },
     "metadata": {},
     "output_type": "display_data"
    },
    {
     "data": {
      "application/vnd.jupyter.widget-view+json": {
       "model_id": "cfb2e3d25b29460798a20bca7a2a579b",
       "version_major": 2,
       "version_minor": 0
      },
      "text/plain": [
       "  0%|          | 0/76 [00:00<?, ?it/s]"
      ]
     },
     "metadata": {},
     "output_type": "display_data"
    },
    {
     "data": {
      "application/vnd.jupyter.widget-view+json": {
       "model_id": "eacc669b7d4448838dddcc60a8b4c151",
       "version_major": 2,
       "version_minor": 0
      },
      "text/plain": [
       "  0%|          | 0/76 [00:00<?, ?it/s]"
      ]
     },
     "metadata": {},
     "output_type": "display_data"
    },
    {
     "data": {
      "application/vnd.jupyter.widget-view+json": {
       "model_id": "78b9e5bfb2dc4956b9e664a45d48b966",
       "version_major": 2,
       "version_minor": 0
      },
      "text/plain": [
       "  0%|          | 0/76 [00:00<?, ?it/s]"
      ]
     },
     "metadata": {},
     "output_type": "display_data"
    },
    {
     "data": {
      "application/vnd.jupyter.widget-view+json": {
       "model_id": "2ddd3dac5c1641db81fbd101c5f7de88",
       "version_major": 2,
       "version_minor": 0
      },
      "text/plain": [
       "  0%|          | 0/76 [00:00<?, ?it/s]"
      ]
     },
     "metadata": {},
     "output_type": "display_data"
    },
    {
     "data": {
      "application/vnd.jupyter.widget-view+json": {
       "model_id": "fdfb1238c58842828432d08d21fcbafc",
       "version_major": 2,
       "version_minor": 0
      },
      "text/plain": [
       "  0%|          | 0/76 [00:00<?, ?it/s]"
      ]
     },
     "metadata": {},
     "output_type": "display_data"
    },
    {
     "data": {
      "application/vnd.jupyter.widget-view+json": {
       "model_id": "704f514fe124430f84e5952cf69d5a7e",
       "version_major": 2,
       "version_minor": 0
      },
      "text/plain": [
       "  0%|          | 0/76 [00:00<?, ?it/s]"
      ]
     },
     "metadata": {},
     "output_type": "display_data"
    },
    {
     "data": {
      "application/vnd.jupyter.widget-view+json": {
       "model_id": "f3629d0c1e224d74a43a7c7177fbe9df",
       "version_major": 2,
       "version_minor": 0
      },
      "text/plain": [
       "  0%|          | 0/76 [00:00<?, ?it/s]"
      ]
     },
     "metadata": {},
     "output_type": "display_data"
    },
    {
     "data": {
      "application/vnd.jupyter.widget-view+json": {
       "model_id": "e3228b2a214d4343bf9d761d41578082",
       "version_major": 2,
       "version_minor": 0
      },
      "text/plain": [
       "  0%|          | 0/76 [00:00<?, ?it/s]"
      ]
     },
     "metadata": {},
     "output_type": "display_data"
    },
    {
     "data": {
      "application/vnd.jupyter.widget-view+json": {
       "model_id": "5063551b18274fe68361d8c6e1b53f96",
       "version_major": 2,
       "version_minor": 0
      },
      "text/plain": [
       "  0%|          | 0/76 [00:00<?, ?it/s]"
      ]
     },
     "metadata": {},
     "output_type": "display_data"
    },
    {
     "data": {
      "application/vnd.jupyter.widget-view+json": {
       "model_id": "12cb8a8ddd284eb2baa78053fd55747b",
       "version_major": 2,
       "version_minor": 0
      },
      "text/plain": [
       "  0%|          | 0/76 [00:00<?, ?it/s]"
      ]
     },
     "metadata": {},
     "output_type": "display_data"
    },
    {
     "data": {
      "application/vnd.jupyter.widget-view+json": {
       "model_id": "8d7dd24a8ba948d2be20b2bde41c948f",
       "version_major": 2,
       "version_minor": 0
      },
      "text/plain": [
       "  0%|          | 0/76 [00:00<?, ?it/s]"
      ]
     },
     "metadata": {},
     "output_type": "display_data"
    },
    {
     "data": {
      "application/vnd.jupyter.widget-view+json": {
       "model_id": "394ca1a7116940329cca149d07c4ea28",
       "version_major": 2,
       "version_minor": 0
      },
      "text/plain": [
       "  0%|          | 0/76 [00:00<?, ?it/s]"
      ]
     },
     "metadata": {},
     "output_type": "display_data"
    }
   ],
   "source": [
    "model = efficientnet_b0(num_classes=5)\n",
    "model.load_state_dict(cool_model)\n",
    "model.to(device)\n",
    "dataloader = torch.utils.data.DataLoader(CustomDataset('data/sample_submission.csv', get_transforms('train')), batch_size=256, num_workers=8)\n",
    "\n",
    "tta = 30\n",
    "for t in range(tta):\n",
    "    preds += inference(model, dataloader, device)"
   ]
  },
  {
   "cell_type": "code",
   "execution_count": 37,
   "metadata": {},
   "outputs": [],
   "source": [
    "checkpoint += '_30'"
   ]
  },
  {
   "cell_type": "code",
   "execution_count": 38,
   "metadata": {},
   "outputs": [],
   "source": [
    "test = pd.read_csv('data/sample_submission.csv', )\n",
    "test.iloc[:, 1:] = preds / (tta + 11)\n",
    "test.to_csv(f'data/submissions/{checkpoint}.csv', index=False)"
   ]
  },
  {
   "cell_type": "code",
   "execution_count": 40,
   "metadata": {},
   "outputs": [
    {
     "name": "stderr",
     "output_type": "stream",
     "text": [
      "100%|██████████| 2.11M/2.11M [00:02<00:00, 901kB/s]\n"
     ]
    },
    {
     "data": {
      "text/plain": [
       "Successfully submitted to Chest x-ray image classification"
      ]
     },
     "execution_count": 40,
     "metadata": {},
     "output_type": "execute_result"
    }
   ],
   "source": [
    "kaggle.api.competition_submit(f'data/submissions/{checkpoint}.csv', 'Effnetb0 320x320 augmented averaging tta', 'chest-x-ray-image-classification')"
   ]
  },
  {
   "cell_type": "markdown",
   "metadata": {},
   "source": [
    "# План B!"
   ]
  },
  {
   "cell_type": "code",
   "execution_count": 5,
   "metadata": {},
   "outputs": [
    {
     "data": {
      "application/vnd.jupyter.widget-view+json": {
       "model_id": "10abe95eb0b243c9aa60da30b8c3f500",
       "version_major": 2,
       "version_minor": 0
      },
      "text/plain": [
       "  0%|          | 0/76 [00:00<?, ?it/s]"
      ]
     },
     "metadata": {},
     "output_type": "display_data"
    }
   ],
   "source": [
    "whatw = torch.tensor([[ 0.8884573 , -0.02050001,  0.06470138,  0.07708601, -0.03539958],\n",
    "       [ 0.01634081,  0.90970256,  0.04924741, -0.03046782, -0.02745024],\n",
    "       [ 0.00647937, -0.00445542,  0.83861348,  0.03517183,  0.01810227],\n",
    "       [ 0.00894726, -0.00640146, -0.01189516,  0.85447432,  0.01298881],\n",
    "       [-0.0050264 ,  0.00760905,  0.02597707, -0.05035251,  0.93361056]])\n",
    "whatb = torch.tensor([ 0.13252833, -0.04922415, -0.38749676, -0.05492893,  0.1900582 ])\n",
    "\n",
    "def predict(model_cls, checkpoint, batchsize=256, base_sumbission='data/sample_submission.csv'):\n",
    "    model = model_cls(densenet121())\n",
    "    model.load_state_dict(torch.load(checkpoint))\n",
    "    model.base_model.postclassifier = torch.nn.Linear(5, 5)\n",
    "    model.base_model.postclassifier.weight = torch.nn.Parameter(whatw)\n",
    "    model.base_model.postclassifier.bias = torch.nn.Parameter(whatb)\n",
    "\n",
    "#     model.base_model.classifier.weight = torch.nn.Parameter(whatw @ model.base_model.classifier.weight)\n",
    "#     model.base_model.classifier.bias = torch.nn.Parameter(whatb + model.base_model.classifier.bias)\n",
    "    model.to(device)\n",
    "    dataloader = torch.utils.data.DataLoader(CustomDataset(base_sumbission, get_transforms('train')), batch_size=batchsize, num_workers=4)\n",
    "    preds = inference(model, dataloader, device)\n",
    "    return preds\n",
    "\n",
    "preds = predict(MyResNet, f'checkpoints/{checkpoint}_model.pt')"
   ]
  },
  {
   "cell_type": "code",
   "execution_count": 6,
   "metadata": {},
   "outputs": [],
   "source": [
    "test = pd.read_csv('data/sample_submission.csv', )\n",
    "test.iloc[:, 1:] = preds\n",
    "test.to_csv(f'data/submissions/{checkpoint}_hehe.csv', index=False)"
   ]
  },
  {
   "cell_type": "code",
   "execution_count": 7,
   "metadata": {},
   "outputs": [
    {
     "name": "stderr",
     "output_type": "stream",
     "text": [
      "100%|██████████| 2.11M/2.11M [00:02<00:00, 977kB/s]\n"
     ]
    },
    {
     "data": {
      "text/plain": [
       "Successfully submitted to Chest x-ray image classification"
      ]
     },
     "execution_count": 7,
     "metadata": {},
     "output_type": "execute_result"
    }
   ],
   "source": [
    "kaggle.api.competition_submit(f'data/submissions/{checkpoint}_hehe.csv', 'Densenet121 320x320 augmented + hehe', 'chest-x-ray-image-classification')"
   ]
  }
 ],
 "metadata": {
  "kernelspec": {
   "display_name": "Python 3",
   "language": "python",
   "name": "python3"
  },
  "language_info": {
   "codemirror_mode": {
    "name": "ipython",
    "version": 3
   },
   "file_extension": ".py",
   "mimetype": "text/x-python",
   "name": "python",
   "nbconvert_exporter": "python",
   "pygments_lexer": "ipython3",
   "version": "3.6.10"
  }
 },
 "nbformat": 4,
 "nbformat_minor": 4
}
